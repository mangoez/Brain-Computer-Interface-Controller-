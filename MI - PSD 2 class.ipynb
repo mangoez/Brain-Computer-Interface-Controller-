{
 "cells": [
  {
   "cell_type": "code",
   "execution_count": 2,
   "metadata": {},
   "outputs": [],
   "source": [
    "import pandas as pd\n",
    "import math\n",
    "import matplotlib.pyplot as plt\n",
    "import numpy as np\n",
    "import yasa\n",
    "from scipy.signal import welch\n",
    "import seaborn as sns\n",
    "from scipy.signal import welch, freqz, butter, filtfilt\n",
    "from mne.decoding import CSP\n",
    "\n",
    "from sklearn.neighbors import KNeighborsClassifier\n",
    "from sklearn.preprocessing import StandardScaler, QuantileTransformer\n",
    "from sklearn.discriminant_analysis import LinearDiscriminantAnalysis, QuadraticDiscriminantAnalysis\n",
    "from sklearn.model_selection import train_test_split\n",
    "from sklearn.linear_model import LogisticRegression\n",
    "from sklearn import metrics \n",
    "from sklearn.model_selection import cross_val_score, KFold\n",
    "from sklearn.pipeline import Pipeline\n",
    "from sklearn.neural_network import MLPClassifier\n",
    "from sklearn.svm import SVC\n",
    "from sklearn.model_selection import LeaveOneOut\n",
    "from sklearn.tree import DecisionTreeClassifier\n",
    "from sklearn.preprocessing import StandardScaler\n",
    "from sklearn.ensemble import GradientBoostingClassifier\n",
    "from sklearn.naive_bayes import GaussianNB, MultinomialNB, BernoulliNB, CategoricalNB, ComplementNB"
   ]
  },
  {
   "cell_type": "code",
   "execution_count": 3,
   "metadata": {},
   "outputs": [],
   "source": [
    "fs = 100\n",
    "low = 7\n",
    "high = 30\n",
    "\n",
    "events = pd.read_csv('100Hz/data_set_IVb_al_train_mrk.txt', header=None, sep='\\t')\n",
    "events = np.squeeze(events.values.tolist())\n",
    "\n",
    "# Import all the electrodes \n",
    "electrodes_all = pd.read_csv('100Hz/data_set_IVb_al_train_nfo.txt', header=None, delimiter=', ', nrows=1, engine='python')\n",
    "electrodes_all = np.squeeze(electrodes_all.values.tolist())\n",
    "\n",
    "# use the electrodes that span the motor cortex\n",
    "first_electrode = np.where(electrodes_all=='CFC7')[0][0]\n",
    "last_electrode = np.where(electrodes_all=='CCP8')[0][0]\n",
    "\n",
    "electrodes25 = electrodes_all[first_electrode:last_electrode+1]\n",
    "\n",
    "C1_ind25 = np.where(electrodes25=='C1')[0][0]\n",
    "C2_ind25 = np.where(electrodes25=='C2')[0][0]\n",
    "C3_ind25 = np.where(electrodes25=='C3')[0][0]\n",
    "C4_ind25 = np.where(electrodes25=='C4')[0][0]\n",
    "Cz_ind25 = np.where(electrodes25=='Cz')[0][0]\n",
    "\n",
    "C1_ind = np.where(electrodes_all=='C1')[0][0]\n",
    "C2_ind = np.where(electrodes_all=='C2')[0][0]\n",
    "C3_ind = np.where(electrodes_all=='C3')[0][0]\n",
    "C4_ind = np.where(electrodes_all=='C4')[0][0]\n",
    "Cz_ind = np.where(electrodes_all=='Cz')[0][0]\n",
    "\n",
    "data = pd.read_csv('100Hz/data_set_IVb_al_train_cnt.txt', names=electrodes_all, delimiter='\\t')\n",
    "data = data.to_numpy()"
   ]
  },
  {
   "cell_type": "code",
   "execution_count": 4,
   "metadata": {},
   "outputs": [],
   "source": [
    "# CAR referencing\n",
    "\n",
    "def reference(data):\n",
    "    assert (data.shape[0] > data.shape[1]), \"Check your rows are samples and columns are electrodes: \" + str(data.shape)        \n",
    "    ref = data - np.mean(data, axis = 1, keepdims = True)\n",
    "    return ref\n",
    "\n",
    "\n",
    "def butter_bandpass(lowcut, highcut, fs, order=9):\n",
    "    nyq = 0.5 * fs\n",
    "    low = lowcut / nyq\n",
    "    high = highcut / nyq\n",
    "    b, a = butter(order, [low, high], btype='band')\n",
    "    return b, a\n",
    "\n",
    "\n",
    "def butter_bandpass_filter(data, lowcut, highcut, fs, order=9):\n",
    "    b, a = butter_bandpass(lowcut, highcut, fs, order=order)\n",
    "    y = filtfilt(b, a, data)\n",
    "    return y\n",
    "\n",
    "\n",
    "def plot_spectrum(data, sf, window_sec, band=None, dB=False):\n",
    "    \"\"\"Plot the periodogram, Welch's and multitaper PSD.\n",
    "\n",
    "    Requires MNE-Python >= 0.14.\n",
    "\n",
    "    Parameters\n",
    "    ----------\n",
    "    data : 1d-array\n",
    "        Input signal in the time-domain.\n",
    "    sf : float\n",
    "        Sampling frequency of the data.\n",
    "    band : list\n",
    "        Lower and upper frequencies of the band of interest.\n",
    "    window_sec : float\n",
    "        Length of each window in seconds for Welch's PSD\n",
    "    dB : boolean\n",
    "        If True, convert the power to dB.\n",
    "    \"\"\"\n",
    "    sns.set(style=\"white\", font_scale=1.2)\n",
    "    # Compute the PSD\n",
    "    freqs_welch, psd_welch = welch(data, sf, nperseg=window_sec*sf)\n",
    "    sharey = False\n",
    "\n",
    "    # Optional: convert power to decibels (dB = 10 * log10(power))\n",
    "    if dB:\n",
    "        psd_welch = 10 * np.log10(psd_welch)\n",
    "        sharey = True\n",
    "    \n",
    "    return freqs_welch, psd_welch"
   ]
  },
  {
   "cell_type": "code",
   "execution_count": 5,
   "metadata": {},
   "outputs": [
    {
     "name": "stdout",
     "output_type": "stream",
     "text": [
      "(210259, 2)\n"
     ]
    }
   ],
   "source": [
    "data_cz = data - np.reshape(data[:, Cz_ind], (data.shape[0], 1))\n",
    "data25_cz = data[:, first_electrode: last_electrode+1]\n",
    "data25 = data[:, first_electrode: last_electrode+1]\n",
    "data25_car = reference(data25)\n",
    "\n",
    "Cz = data[:, Cz_ind]\n",
    "C1_cz = data[:, C1_ind] - Cz #Cz reference has been the best!\n",
    "C2_cz = data[:, C2_ind] - Cz\n",
    "C3_cz = data[:, C3_ind] - Cz\n",
    "C4_cz = data[:, C4_ind] - Cz\n",
    "\n",
    "selected_electrodes = (np.vstack((C3_cz, C4_cz))).T\n",
    "channels = selected_electrodes.shape[1]\n",
    "\n",
    "print(selected_electrodes.shape)\n"
   ]
  },
  {
   "cell_type": "code",
   "execution_count": 6,
   "metadata": {
    "scrolled": false
   },
   "outputs": [
    {
     "name": "stdout",
     "output_type": "stream",
     "text": [
      "{False, True}\n"
     ]
    },
    {
     "data": {
      "image/png": "[encoded data removed]",
      "text/plain": [
       "<Figure size 504x288 with 1 Axes>"
      ]
     },
     "metadata": {},
     "output_type": "display_data"
    }
   ],
   "source": [
    "freqs, psd = plot_spectrum(C3_cz, fs, (32), [1, 50], dB=True)\n",
    "\n",
    "# Define mu band\n",
    "# Find intersecting values in frequency vector\n",
    "idx_mu = np.logical_and(freqs >= low, freqs <= high)\n",
    "\n",
    "# Plot the power spectral density and fill the delta area\n",
    "plt.figure(figsize=(7, 4))\n",
    "plt.plot(freqs, psd, lw=2, color='k')\n",
    "plt.fill_between(freqs, psd, where=idx_mu, color='skyblue')\n",
    "plt.xlabel('Frequency (Hz)', fontsize=20)\n",
    "plt.ylabel('Decibels (dB / Hz)', fontsize=20)\n",
    "plt.xlim([0, 50])\n",
    "plt.ylim([0, psd.max() * 1.5])\n",
    "plt.title(\"Electrode C3: Referenced\", fontsize=30)\n",
    "sns.despine()\n",
    "\n",
    "print(set(freqs == 7))"
   ]
  },
  {
   "cell_type": "code",
   "execution_count": 46,
   "metadata": {
    "scrolled": false
   },
   "outputs": [
    {
     "name": "stdout",
     "output_type": "stream",
     "text": [
      "[ 0.  1.  2.  3.  4.  5.  6.  7.  8.  9. 10. 11. 12. 13. 14. 15. 16. 17.\n",
      " 18. 19. 20. 21. 22. 23. 24. 25. 26. 27. 28. 29. 30. 31. 32. 33. 34. 35.\n",
      " 36. 37. 38. 39. 40. 41. 42. 43. 44. 45. 46. 47. 48. 49. 50.]\n",
      "[  2.13414802 -16.31592703   4.5322787    5.6033012  -13.79730005\n",
      "   2.35218465  -4.70390639   3.65760141   4.21351139   2.34265167\n",
      "   0.18308754  -3.52779327  -3.4396364   -4.28089289   2.20852685\n",
      "   6.52655791   5.55250688   1.61326861  -1.34587667  -1.64559946\n",
      "   2.63556356   1.12119219  -9.88101636]\n",
      "23\n"
     ]
    }
   ],
   "source": [
    "start = events[0][0]\n",
    "zeros = 0 # Lower resolution work best\n",
    "\n",
    "C3_t1 = C3_cz[start: start + 100]\n",
    "C3_t1_pad = np.pad(C3_t1, [(zeros, zeros)], mode='constant')\n",
    "\n",
    "# t = range(1,201)\n",
    "# plt.figure(figsize=(7, 4))\n",
    "# plt.plot(t, C3_t1,color='m')\n",
    "# plt.title(\"C3: First trial\", fontsize=30)\n",
    "\n",
    "freqs, psd = plot_spectrum(C3_t1_pad, fs, (32), [1, 50], dB=True)\n",
    "print(freqs)\n",
    "# plt.figure(figsize=(7, 4))\n",
    "# plt.plot(freqs, psd,color='b')\n",
    "# plt.title(\"C3: First trial frequency domain\", fontsize=30)\n",
    "\n",
    "low_ind = np.where(freqs == low)[0][0]\n",
    "high_ind = np.where(freqs == high)[0][0]\n",
    "\n",
    "psd_sliced = psd[low_ind: high_ind]\n",
    "freqs_sliced = freqs[low_ind: high_ind]\n",
    "\n",
    "print(psd_sliced)\n",
    "# psd_sliced_half = [psd_sliced[i] for i in range(0, len(psd_sliced), 2)]\n",
    "# freqs_sliced_half = [freqs_sliced[i] for i in range(0, len(freqs_sliced), 2)]\n",
    "\n",
    "# print(len(freqs_sliced), len(freqs_sliced_half))\n",
    "\n",
    "# plt.figure(figsize=(7, 4))\n",
    "# plt.plot(freqs_sliced, psd_sliced,color='r')\n",
    "# plt.title(\"C3: First trial sliced frequency domain\", fontsize=30)\n",
    "\n",
    "n_freqs = len(psd_sliced)\n",
    "print(n_freqs)\n",
    "\n",
    "# print(low_ind, high_ind)"
   ]
  },
  {
   "cell_type": "code",
   "execution_count": 47,
   "metadata": {
    "scrolled": true
   },
   "outputs": [
    {
     "name": "stdout",
     "output_type": "stream",
     "text": [
      "(210, 575) (25, 23)\n",
      "[1, 0, 1, 0, 1, 1, 1, 0, 0, 0, 0, 0, 0, 1, 1, 0, 1, 0, 0, 0, 1, 1, 1, 0, 1, 0, 0, 0, 1, 0, 0, 1, 1, 0, 1, 1, 0, 1, 0, 1, 1, 1, 0, 0, 1, 0, 1, 1, 1, 0, 1, 1, 1, 0, 1, 0, 0, 1, 0, 0, 1, 1, 1, 1, 0, 0, 1, 0, 0, 0, 0, 1, 0, 0, 1, 1, 0, 0, 1, 0, 0, 1, 0, 1, 0, 0, 0, 1, 1, 1, 1, 1, 1, 1, 1, 1, 1, 1, 0, 0, 0, 0, 1, 1, 0, 0, 0, 0, 0, 1, 1, 0, 1, 0, 1, 0, 0, 0, 1, 0, 0, 0, 1, 1, 0, 1, 1, 1, 0, 0, 1, 0, 0, 1, 0, 1, 1, 0, 1, 1, 0, 1, 0, 0, 1, 0, 1, 1, 1, 0, 1, 0, 0, 0, 1, 1, 0, 0, 1, 0, 1, 0, 0, 1, 1, 1, 1, 0, 0, 1, 0, 0, 1, 1, 0, 0, 1, 1, 1, 0, 0, 0, 1, 0, 0, 1, 0, 1, 1, 0, 1, 0, 1, 0, 1, 1, 1, 0, 1, 0, 1, 0, 0, 0, 0, 1, 1, 1, 1, 0]\n"
     ]
    }
   ],
   "source": [
    "# Create training data\n",
    "\n",
    "def create_data(data, fs, low, high, n_freqs, sec, start, zero):\n",
    "    channels = data.shape[1]\n",
    "    y = []\n",
    "    x = np.zeros((len(events), channels*n_freqs))\n",
    "    temp = np.zeros((channels, n_freqs))\n",
    "    print(x.shape, temp.shape)\n",
    "    \n",
    "    win = round(sec*fs)\n",
    "    \n",
    "    for i in range(events.shape[0]):\n",
    "        event = events[i]\n",
    "        if (event[1] == 1):\n",
    "            y.append(1)\n",
    "        else:\n",
    "            y.append(0)\n",
    "            \n",
    "        all_channel_trial = data[event[0]+(start*fs):event[0]+win+(start*fs), :]\n",
    "        \n",
    "        for j in range(all_channel_trial.shape[1]):\n",
    "            trial_pad = np.pad(all_channel_trial[:, j], [(zeros, zeros)], mode='constant')\n",
    "            freqs, psd = plot_spectrum(trial_pad, fs, (32), [low, high], dB=True)\n",
    "\n",
    "            low_ind = np.where(freqs == low)[0][0]\n",
    "            high_ind = np.where(freqs == high)[0][0]\n",
    "\n",
    "            psd_sliced = psd[low_ind: high_ind]\n",
    "            freqs_sliced = freqs[low_ind: high_ind]\n",
    "            \n",
    "            temp[j, :] = psd_sliced\n",
    "            \n",
    "        x[i, :] = np.ravel(temp)\n",
    "        \n",
    "    return x, y\n",
    "            \n",
    "    \n",
    "\n",
    "x, y = create_data(data25_cz, fs, low, high, n_freqs, 1, 0, zeros) \n",
    "print(y)\n",
    "# 0: 1Hz res\n",
    "# 50: 0.5Hz res\n",
    "# 150: 0.25Hz res\n",
    "# 450: 0.1Hz res"
   ]
  },
  {
   "cell_type": "code",
   "execution_count": 48,
   "metadata": {},
   "outputs": [],
   "source": [
    "# # Convert to pandas df\n",
    "# x_df = pd.DataFrame(x)\n",
    "# x_train, x_test, y_train, y_test = train_test_split(x_df, y, train_size=0.6, shuffle=True, stratify=None)\n",
    "\n",
    "# # Preprocess\n",
    "# scaler = StandardScaler()\n",
    "# scaler.fit(x_train)    \n",
    "# x_train = scaler.transform(x_train)\n",
    "# x_test = scaler.transform(x_test)\n",
    "\n",
    "# quantile_transformer = QuantileTransformer(random_state=0)\n",
    "# x_train = quantile_transformer.fit_transform(x_train)\n",
    "# x_test = quantile_transformer.transform(x_test)\n",
    "\n",
    "# # Run the model\n",
    "# model = SVC(kernel='poly')\n",
    "# model = ComplementNB()\n",
    "# model = MultinomialNB()\n",
    "# model = CategoricalNB()\n",
    "# model.fit(x_train, y_train)\n",
    "\n",
    "# # Make predictions on entire test set\n",
    "# predictions = model.predict(x_test)\n",
    "\n",
    "# # Use score method to get accuracy of model\n",
    "# score = model.score(x_test, y_test)\n",
    "\n",
    "# # Confusion matrix\n",
    "# cm = metrics.confusion_matrix(y_test, predictions)\n",
    "# print(cm)\n",
    "\n",
    "# # Plot confusion matrix\n",
    "# plt.figure(figsize=(9,9))\n",
    "# sns.heatmap(cm, annot=True, fmt=\".3f\", linewidths=.5, square = True, cmap = 'Blues_r');\n",
    "# plt.ylabel('Actual label');\n",
    "# plt.xlabel('Predicted label');\n",
    "# all_sample_title = 'Accuracy Score: {1}'.format(\"Neural Net\", score)\n",
    "# plt.title(all_sample_title, size = 15);"
   ]
  },
  {
   "cell_type": "code",
   "execution_count": 49,
   "metadata": {
    "scrolled": true
   },
   "outputs": [
    {
     "name": "stderr",
     "output_type": "stream",
     "text": [
      "/opt/miniconda3/lib/python3.8/site-packages/sklearn/preprocessing/_data.py:2367: UserWarning: n_quantiles (1000) is greater than the total number of samples (210). n_quantiles is set to n_samples.\n",
      "  warnings.warn(\"n_quantiles (%s) is greater than the total number \"\n"
     ]
    }
   ],
   "source": [
    "quantile_transformer = QuantileTransformer(random_state=0)\n",
    "x_1 = quantile_transformer.fit_transform(x)"
   ]
  },
  {
   "cell_type": "code",
   "execution_count": 50,
   "metadata": {},
   "outputs": [
    {
     "name": "stdout",
     "output_type": "stream",
     "text": [
      "Accuracy: 58.57 (+/- 0.99)\n"
     ]
    }
   ],
   "source": [
    "scores = cross_val_score(GaussianNB(), x, y, cv=KFold(x.shape[0])) # Best so far 90%\n",
    "print(\"Accuracy: %0.2f (+/- %0.2f)\" % (scores.mean() * 100, scores.std()*2))"
   ]
  },
  {
   "cell_type": "code",
   "execution_count": 51,
   "metadata": {},
   "outputs": [
    {
     "name": "stdout",
     "output_type": "stream",
     "text": [
      "Accuracy: 64.29 (+/- 0.96)\n"
     ]
    }
   ],
   "source": [
    "scores = cross_val_score(GaussianNB(), x_1, y, cv=KFold(x.shape[0])) # Best so far 90%\n",
    "print(\"Accuracy: %0.2f (+/- %0.2f)\" % (scores.mean() * 100, scores.std()*2))"
   ]
  },
  {
   "cell_type": "code",
   "execution_count": 52,
   "metadata": {},
   "outputs": [
    {
     "name": "stdout",
     "output_type": "stream",
     "text": [
      "Accuracy: 60.00 (+/- 0.98)\n"
     ]
    }
   ],
   "source": [
    "scores = cross_val_score(SVC(kernel='poly', degree=2), x, y, cv=KFold(x.shape[0])) # 2nd Best so far 90%\n",
    "print(\"Accuracy: %0.2f (+/- %0.2f)\" % (scores.mean() * 100, scores.std()*2))"
   ]
  },
  {
   "cell_type": "code",
   "execution_count": 53,
   "metadata": {},
   "outputs": [
    {
     "name": "stdout",
     "output_type": "stream",
     "text": [
      "Accuracy: 59.52 (+/- 0.98)\n"
     ]
    }
   ],
   "source": [
    "scores = cross_val_score(SVC(kernel='poly', degree=3), x, y, cv=KFold(x.shape[0])) # 2nd Best so far 90%\n",
    "print(\"Accuracy: %0.2f (+/- %0.2f)\" % (scores.mean() * 100, scores.std()*2))"
   ]
  },
  {
   "cell_type": "code",
   "execution_count": 54,
   "metadata": {},
   "outputs": [
    {
     "name": "stdout",
     "output_type": "stream",
     "text": [
      "Accuracy: 57.62 (+/- 0.99)\n"
     ]
    }
   ],
   "source": [
    "scores = cross_val_score(SVC(kernel='rbf'), x, y, cv=KFold(x.shape[0])) # Best so far 91%\n",
    "print(\"Accuracy: %0.2f (+/- %0.2f)\" % (scores.mean() * 100, scores.std()*2))"
   ]
  },
  {
   "cell_type": "code",
   "execution_count": 55,
   "metadata": {},
   "outputs": [
    {
     "name": "stdout",
     "output_type": "stream",
     "text": [
      "Accuracy: 59.05 (+/- 0.98)\n"
     ]
    }
   ],
   "source": [
    "scores = cross_val_score(LinearDiscriminantAnalysis(shrinkage='auto', solver='eigen'), x, y, cv=KFold(x.shape[0]))\n",
    "print(\"Accuracy: %0.2f (+/- %0.2f)\" % (scores.mean() * 100, scores.std()*2))"
   ]
  },
  {
   "cell_type": "code",
   "execution_count": 56,
   "metadata": {
    "scrolled": true
   },
   "outputs": [
    {
     "name": "stdout",
     "output_type": "stream",
     "text": [
      "Accuracy: 57.62 (+/- 0.99)\n"
     ]
    }
   ],
   "source": [
    "scores = cross_val_score(LogisticRegression(max_iter=1000), x, y, cv=KFold(x.shape[0]))\n",
    "print(\"Accuracy: %0.2f (+/- %0.2f)\" % (scores.mean() * 100, scores.std()*2))"
   ]
  },
  {
   "cell_type": "code",
   "execution_count": null,
   "metadata": {},
   "outputs": [],
   "source": []
  }
 ],
 "metadata": {
  "kernelspec": {
   "display_name": "Python 3",
   "language": "python",
   "name": "python3"
  },
  "language_info": {
   "codemirror_mode": {
    "name": "ipython",
    "version": 3
   },
   "file_extension": ".py",
   "mimetype": "text/x-python",
   "name": "python",
   "nbconvert_exporter": "python",
   "pygments_lexer": "ipython3",
   "version": "3.8.3"
  }
 },
 "nbformat": 4,
 "nbformat_minor": 4
}
